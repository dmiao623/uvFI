{
 "cells": [
  {
   "cell_type": "code",
   "execution_count": null,
   "id": "850cc791-06aa-4bd2-b13b-cd5f5acfa143",
   "metadata": {},
   "outputs": [],
   "source": [
    "import datetime\n",
    "import pandas as pd\n",
    "import matplotlib.pyplot as plt\n",
    "import numpy as np\n",
    "\n",
    "from pathlib import Path\n",
    "from sklearn.model_selection import StratifiedShuffleSplit"
   ]
  },
  {
   "cell_type": "code",
   "execution_count": null,
   "id": "4b3075d8-6762-41be-91e8-8f997275143b",
   "metadata": {},
   "outputs": [],
   "source": [
    "data_dir = Path(\"data/\")\n",
    "output_dir = Path(\"outputs/\")\n",
    "age_md_path = data_dir / \"agedB6_mice_meta.csv\"\n",
    "fi_md_path = data_dir / \"df_video_features.csv\"\n",
    "video_list_path = data_dir / \"B6J_good_videos_batch_file.txt\""
   ]
  },
  {
   "cell_type": "code",
   "execution_count": null,
   "id": "4dc79202-2d48-4e46-afbe-fedfefa1ae23",
   "metadata": {},
   "outputs": [],
   "source": [
    "age_md = pd.read_csv(age_md_path)\n",
    "print(age_md.columns, age_md.shape)"
   ]
  },
  {
   "cell_type": "code",
   "execution_count": null,
   "id": "69158f6e-6251-435e-954e-56c24c2255ac",
   "metadata": {},
   "outputs": [],
   "source": [
    "fi_md = pd.read_csv(fi_md_path)\n",
    "print(fi_md.columns, fi_md.shape)"
   ]
  },
  {
   "cell_type": "code",
   "execution_count": null,
   "id": "cdd7a358-aa6a-48fd-bed8-9860d787015a",
   "metadata": {},
   "outputs": [],
   "source": [
    "age_md[\"DOB_dt\"] = pd.to_datetime(age_md[\"DOB\"], format=\"%m/%d/%y\")\n",
    "age_md[\"TestDate_dt\"] = pd.to_datetime(age_md[\"TestDate\"], format=\"%m/%d/%y\")\n",
    "age_md[\"Age_days\"] = age_md.apply(lambda row: (row[\"TestDate_dt\"] - row[\"DOB_dt\"]).days, axis=1)\n",
    "age_md[\"Age_weeks\"] = age_md[\"Age_days\"] // 7\n",
    "age_md[\"Age_months\"] = age_md[\"Age_days\"] // 30"
   ]
  },
  {
   "cell_type": "code",
   "execution_count": null,
   "id": "4a9e6214-ad69-49a0-8f64-a301d54acb44",
   "metadata": {},
   "outputs": [],
   "source": [
    "### find entries in both tables\n",
    "\n",
    "merged_md = pd.merge(age_md, fi_md, how=\"inner\", left_on=\"MouseID\", right_on=\"MouseID\")\n",
    "mask = abs(merged_md[\"Age_weeks\"] - merged_md[\"TestAge\"]) <= 1\n",
    "md = merged_md[mask].copy()\n",
    "print(md.columns, md.shape)"
   ]
  },
  {
   "cell_type": "code",
   "execution_count": null,
   "id": "784628d7-f872-4ddf-963b-f7e7353f66ef",
   "metadata": {},
   "outputs": [],
   "source": [
    "md[\"path_head\"] = md.apply(lambda row: Path(row['NetworkFilename']).with_suffix(\"\"), axis=1)\n",
    "md[\"video_path\"] = md.apply(lambda row: f\"{row['path_head']}_trimmed_overlay.mp4\", axis=1)\n",
    "md[\"pose_path\"] = md.apply(lambda row: f\"{row['path_head']}__trimmed_overlay_pose_est_v6.h5\", axis=1)"
   ]
  },
  {
   "cell_type": "code",
   "execution_count": null,
   "id": "7f81a3c9-d6a6-4388-a346-91e167141055",
   "metadata": {},
   "outputs": [],
   "source": [
    "print(md[\"video_path\"])"
   ]
  },
  {
   "cell_type": "code",
   "execution_count": null,
   "id": "15de18fd-a9d0-4755-bbec-78f75179fb57",
   "metadata": {},
   "outputs": [],
   "source": [
    "### find entries with valid filepaths\n",
    "\n",
    "with video_list_path.open(\"r\") as f:\n",
    "    videos = list(map(lambda x: x.strip()[58:], f.readlines()))\n",
    "print(videos[:5])\n",
    "md = md[md[\"video_path\"].isin(videos)].copy()\n",
    "print(md.columns, md.shape)"
   ]
  },
  {
   "cell_type": "code",
   "execution_count": null,
   "id": "c14eb47b-9498-4a52-afe3-84d6af9b5665",
   "metadata": {},
   "outputs": [],
   "source": [
    "# age_counts = md[\"Age_months\"].value_counts().sort_index()\n",
    "# age_max = max(md[\"Age_months\"])\n",
    "\n",
    "# plt.figure()\n",
    "# plt.bar(age_counts.index, age_counts.values)\n",
    "# plt.xlabel(\"Age (months)\")\n",
    "# plt.xticks(np.arange(0, age_max + 1, 6))\n",
    "# plt.ylabel(\"Number of Mice\")\n",
    "# plt.show()\n",
    "\n",
    "# plt.figure()\n",
    "# plt.bar(age_counts.index, age_counts.values / sum(age_counts.values))\n",
    "# plt.xlabel(\"Age (months)\")\n",
    "# plt.xticks(np.arange(0, age_max + 1, 6))\n",
    "# plt.ylabel(\"Frequency\")\n",
    "# plt.show()"
   ]
  },
  {
   "cell_type": "code",
   "execution_count": null,
   "id": "9cbc3ad2-8d86-4e02-953b-bd511394a718",
   "metadata": {},
   "outputs": [],
   "source": [
    "# fi_counts = md[\"score\"].value_counts().sort_index()\n",
    "\n",
    "# plt.figure()\n",
    "# plt.bar(fi_counts.index, fi_counts.values)\n",
    "# plt.xlabel(\"Biological Age (Frailty)\")\n",
    "# plt.ylabel(\"Number of Mice\")\n",
    "# plt.show()"
   ]
  },
  {
   "cell_type": "code",
   "execution_count": null,
   "id": "e9ed629d-7504-41f3-bc14-027b6a132d2b",
   "metadata": {},
   "outputs": [],
   "source": [
    "md[\"bucket\"] = md.apply(lambda row: min(4, row[\"Age_months\"] // 6) + (5 if row[\"Sex_y\"] == 1 else 0), axis=1)\n",
    "\n",
    "bucket_counts = md[\"bucket\"].value_counts().sort_index()\n",
    "\n",
    "plt.figure()\n",
    "plt.bar(bucket_counts.index, bucket_counts.values)\n",
    "plt.xlabel(\"Bucket\")\n",
    "plt.ylabel(\"Number of Mice\")\n",
    "plt.show()"
   ]
  },
  {
   "cell_type": "code",
   "execution_count": null,
   "id": "a3ee55b9-df46-4455-89f0-3d07fcd38981",
   "metadata": {},
   "outputs": [],
   "source": [
    "sss = StratifiedShuffleSplit(n_splits=1, train_size=250, random_state=623)\n",
    "train_idx, _ = next(sss.split(md, md['bucket']))\n",
    "\n",
    "stratified_sample = md.iloc[train_idx].reset_index(drop=True)\n",
    "stratified_sample"
   ]
  },
  {
   "cell_type": "code",
   "execution_count": null,
   "id": "9ea7ce26-3254-4ad3-8627-9f19150a4771",
   "metadata": {},
   "outputs": [],
   "source": [
    "with open(output_dir / \"good_video_paths.txt\", \"w\") as f:\n",
    "    f.writelines(\"\\n\".join(list(stratified_sample[\"video_path\"])))\n",
    "with open(output_dir / \"good_pose_paths.txt\", \"w\") as f:\n",
    "    f.writelines(\"\\n\".join(list(stratified_sample[\"pose_path\"])))"
   ]
  },
  {
   "cell_type": "code",
   "execution_count": null,
   "id": "cc642992-4dd0-41b0-8e46-3b11b3c998b2",
   "metadata": {},
   "outputs": [],
   "source": []
  }
 ],
 "metadata": {
  "kernelspec": {
   "display_name": "Python 3 (ipykernel)",
   "language": "python",
   "name": "python3"
  },
  "language_info": {
   "codemirror_mode": {
    "name": "ipython",
    "version": 3
   },
   "file_extension": ".py",
   "mimetype": "text/x-python",
   "name": "python",
   "nbconvert_exporter": "python",
   "pygments_lexer": "ipython3",
   "version": "3.12.10"
  }
 },
 "nbformat": 4,
 "nbformat_minor": 5
}

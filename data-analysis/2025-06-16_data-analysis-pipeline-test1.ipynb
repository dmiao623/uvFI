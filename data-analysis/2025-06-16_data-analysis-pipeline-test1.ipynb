{
 "cells": [
  {
   "cell_type": "code",
   "execution_count": null,
   "id": "cf08e17d-598f-4a9e-a223-f0a999fa2a22",
   "metadata": {},
   "outputs": [],
   "source": [
    "import matplotlib.pyplot as plt\n",
    "import numpy as np\n",
    "import pandas as pd\n",
    "import seaborn as sns\n",
    "import umap\n",
    "\n",
    "from pathlib import Path\n",
    "from typing import Callable, Iterable, Sequence"
   ]
  },
  {
   "cell_type": "code",
   "execution_count": null,
   "id": "5ec7c58a-d4b8-43b0-9791-92f0fcd3cbec",
   "metadata": {},
   "outputs": [],
   "source": [
    "data_dir = Path(\"data/\")\n",
    "output_dir = Path(\"outputs/\")"
   ]
  },
  {
   "cell_type": "code",
   "execution_count": null,
   "id": "fe6bd476-669f-47ac-8aaf-e87e181882b8",
   "metadata": {},
   "outputs": [],
   "source": [
    "import pickle\n",
    "with (data_dir / \"features_block.pkl\").open(\"rb\") as f:\n",
    "    features_arr, row_labels, col_labels = pickle.load(f)"
   ]
  },
  {
   "cell_type": "code",
   "execution_count": null,
   "id": "1ef01284-faea-4a36-9b99-5e8a807d34f2",
   "metadata": {},
   "outputs": [],
   "source": [
    "metadata_df = pd.read_csv(output_dir / \"condensed_metadata.csv\")"
   ]
  },
  {
   "cell_type": "code",
   "execution_count": null,
   "id": "2a13fb97-4d62-4be9-8cc4-2295a9613858",
   "metadata": {},
   "outputs": [],
   "source": [
    "metadata_df[\"pose_path\"]"
   ]
  },
  {
   "cell_type": "code",
   "execution_count": null,
   "id": "61f28721-84d0-444f-a437-29a1b1c51f69",
   "metadata": {},
   "outputs": [],
   "source": [
    "feature_label_basename = lambda feature_label: feature_label[8:-len(\"_pose_est_v6.csv\")].split(\"__\")\n",
    "feature_label_basename(row_labels[0])"
   ]
  },
  {
   "cell_type": "code",
   "execution_count": null,
   "id": "4978ed9f-79c9-41c0-9df7-97641ebc4d53",
   "metadata": {},
   "outputs": [],
   "source": [
    "metadata_label_basename = lambda metadata_label: metadata_label[:-len(\"__trimmed_overlay_pose_est_v6.h5\")].split(\"/\")\n",
    "metadata_label_basename(metadata_df[\"pose_path\"][0])"
   ]
  },
  {
   "cell_type": "code",
   "execution_count": null,
   "id": "dffae555-c062-4842-80fe-ddf4f0059214",
   "metadata": {
    "jupyter": {
     "source_hidden": true
    }
   },
   "outputs": [],
   "source": [
    "def merge_features_metadata(\n",
    "    features_arr:      np.ndarray,\n",
    "    row_labels:        Sequence[str],\n",
    "    col_labels:        Sequence[str],\n",
    "    metadata_df:       pd.DataFrame,\n",
    "    feature_base_fn:   Callable[[str], Iterable[str]],\n",
    "    metadata_base_fn:  Callable[[str], Iterable[str]],\n",
    "    *,\n",
    "    metadata_col: str = \"pose_path\"\n",
    ") -> pd.DataFrame:\n",
    "\n",
    "    n_samples, n_features = features_arr.shape\n",
    "    if n_samples != len(row_labels):\n",
    "        raise ValueError(\n",
    "            f\"features_arr has {n_samples} rows, but len(row_labels) == {len(row_labels)}\"\n",
    "        )\n",
    "    if n_features != len(col_labels):\n",
    "        raise ValueError(\n",
    "            f\"features_arr has {n_features} columns, but len(col_labels) == {len(col_labels)}\"\n",
    "        )\n",
    "\n",
    "    feat_df = pd.DataFrame(features_arr, columns=col_labels)\n",
    "    feat_df.insert(0, \"feature_label\", row_labels)\n",
    "    feat_df[\"basename_key\"] = [tuple(feature_base_fn(lbl))\n",
    "                               for lbl in row_labels]\n",
    "    meta_df = metadata_df.copy()\n",
    "    meta_df[\"basename_key\"] = meta_df[metadata_col].apply(\n",
    "        lambda p: tuple(metadata_base_fn(p))\n",
    "    )\n",
    "\n",
    "    merged = feat_df.merge(\n",
    "        meta_df,\n",
    "        on=\"basename_key\",\n",
    "        how=\"inner\",\n",
    "        suffixes=(\"\", \"_meta\"),\n",
    "        validate=\"many_to_one\"\n",
    "    )\n",
    "    return merged"
   ]
  },
  {
   "cell_type": "code",
   "execution_count": null,
   "id": "39dd6f64-1cf0-4f6f-b646-f54217040869",
   "metadata": {},
   "outputs": [],
   "source": [
    "df = merge_features_metadata(\n",
    "    features_arr,\n",
    "    row_labels,\n",
    "    col_labels,\n",
    "    metadata_df,\n",
    "    feature_label_basename,\n",
    "    metadata_label_basename\n",
    ")\n",
    "\n",
    "df.head()"
   ]
  },
  {
   "cell_type": "code",
   "execution_count": null,
   "id": "16ea5d1b-2b81-4924-9d9f-3f5cdba754ce",
   "metadata": {},
   "outputs": [],
   "source": [
    "import numpy as np\n",
    "from scipy.stats import entropy   # part of SciPy\n",
    "\n",
    "# 1⃣  grab the syllable-frequency columns\n",
    "syll_cols = [c for c in df.columns if c.startswith('syllable_freqs_')]\n",
    "\n",
    "# 2⃣  turn each row into a probability vector\n",
    "#     (skip this step if each row already sums to 1)\n",
    "row_totals = df[syll_cols].sum(axis=1)\n",
    "probs      = df[syll_cols].div(row_totals, axis=0)\n",
    "\n",
    "# 3⃣  Shannon entropy, base-2 (bits) – add a tiny epsilon to dodge log(0)\n",
    "eps = 1e-12\n",
    "df['syllable_entropy'] = probs.add(eps).apply(\n",
    "    lambda r: entropy(r, base=2), axis=1\n",
    ")\n",
    "\n",
    "# done!  peek:\n",
    "df[['feature_label', 'syllable_entropy']].head()"
   ]
  },
  {
   "cell_type": "code",
   "execution_count": null,
   "id": "be3682d9-b157-47e4-8308-c40e4e5b7fa5",
   "metadata": {},
   "outputs": [],
   "source": [
    "feature_labels = col_labels + [\"syllable_entropy\"]"
   ]
  },
  {
   "cell_type": "code",
   "execution_count": null,
   "id": "70c7c5b5-6cdc-4b50-a417-9977164712e9",
   "metadata": {
    "jupyter": {
     "source_hidden": true
    }
   },
   "outputs": [],
   "source": [
    "def plot_feature_correlations(\n",
    "    df: pd.DataFrame,\n",
    "    feature_cols: list[str],\n",
    "    target_col: str,\n",
    "    *,\n",
    "    sort_by_abs: bool = True,\n",
    "    cmap: str = \"coolwarm\",\n",
    "    fmt: str = \".2f\",\n",
    ") -> None:\n",
    "    with np.errstate(invalid='ignore', divide='ignore'):\n",
    "        r = df[feature_cols].corrwith(df[target_col], method='pearson')\n",
    "    if sort_by_abs:\n",
    "        r = r.reindex(r.abs().sort_values(ascending=False).index)\n",
    "\n",
    "    corr_df = pd.DataFrame(r).T\n",
    "    corr_df.index = [target_col]\n",
    "\n",
    "    f_w = max(4, len(r) * 0.35)\n",
    "    f_h = 2.2\n",
    "    base = 10\n",
    "\n",
    "    plt.figure(figsize=(f_w, f_h))\n",
    "    sns.set(font_scale=1)\n",
    "\n",
    "    ax = sns.heatmap(\n",
    "        corr_df, cmap=cmap,\n",
    "        center=0, vmin=-1, vmax=1,\n",
    "        linewidths=0.6, linecolor='black',\n",
    "        annot=True, fmt=fmt, annot_kws={\"size\": base * 0.8},\n",
    "        cbar_kws={\n",
    "            \"label\": \"Pearson r\",\n",
    "            \"shrink\": 0.6,\n",
    "            \"pad\": 0.02,\n",
    "            \"aspect\": 15,\n",
    "        },\n",
    "    )\n",
    "\n",
    "    ax.set_xticklabels(ax.get_xticklabels(), rotation=90, ha=\"center\",\n",
    "                       fontsize=base * 0.8)\n",
    "    ax.set_yticklabels(ax.get_yticklabels(), rotation=0,\n",
    "                       fontsize=base * 0.9)\n",
    "\n",
    "    cbar = ax.collections[0].colorbar\n",
    "    cbar.ax.tick_params(labelsize=base * 0.8)          # tick number font\n",
    "    cbar.ax.set_ylabel(\"Pearson r\", fontsize=base * 0.9, rotation=-90,\n",
    "                       va='center', labelpad=12)\n",
    "\n",
    "    ax.set_title(f\"Correlation with {target_col}\",\n",
    "                 loc=\"left\", weight=\"bold\", fontsize=base * 1.1)\n",
    "\n",
    "    plt.tight_layout()\n",
    "    plt.show()\n"
   ]
  },
  {
   "cell_type": "code",
   "execution_count": null,
   "id": "81f94605-7fdf-436a-889d-9578a934802c",
   "metadata": {},
   "outputs": [],
   "source": [
    "plot_feature_correlations(df, feature_labels, \"fi\")"
   ]
  },
  {
   "cell_type": "code",
   "execution_count": null,
   "id": "d300e0e4-9e78-4547-8f37-0e99b8f0f8f7",
   "metadata": {},
   "outputs": [],
   "source": [
    "plot_feature_correlations(df, feature_labels, \"age\")"
   ]
  },
  {
   "cell_type": "code",
   "execution_count": null,
   "id": "9e85d278-39e9-4e62-94e3-c37c51441fb3",
   "metadata": {},
   "outputs": [],
   "source": [
    "len(col_labels)"
   ]
  },
  {
   "cell_type": "code",
   "execution_count": null,
   "id": "6f7250f8-6f1f-48b6-9304-bf737f5fe800",
   "metadata": {
    "jupyter": {
     "source_hidden": true
    }
   },
   "outputs": [],
   "source": [
    "import pandas as pd\n",
    "import matplotlib.pyplot as plt\n",
    "import seaborn as sns\n",
    "from scipy.stats import pearsonr\n",
    "\n",
    "def plot_feature_scatter(\n",
    "    df: pd.DataFrame,\n",
    "    x_col: str,\n",
    "    y_col: str,\n",
    "    fit_line: bool = True,\n",
    ") -> None:\n",
    "\n",
    "    data = df[[x_col, y_col]].dropna()\n",
    "    r, _ = pearsonr(data[x_col], data[y_col])\n",
    "\n",
    "    plt.figure(figsize=(5, 4))\n",
    "    sns.scatterplot(x=x_col, y=y_col, data=data, s=35)\n",
    "\n",
    "    if fit_line:\n",
    "        sns.regplot(\n",
    "            x=x_col, y=y_col, data=data,\n",
    "            scatter=False, line_kws={\"color\": \"black\", \"linewidth\": 1}\n",
    "        )\n",
    "\n",
    "    plt.title(f\"{y_col} vs {x_col}  (r = {r:.2f})\")\n",
    "    plt.tight_layout()\n",
    "    plt.show()\n"
   ]
  },
  {
   "cell_type": "code",
   "execution_count": null,
   "id": "c4a4432f-498e-4e76-aa1c-340d57883cf7",
   "metadata": {},
   "outputs": [],
   "source": [
    "plot_feature_scatter(df, \"embedding_stats_8\", \"age\")"
   ]
  },
  {
   "cell_type": "code",
   "execution_count": null,
   "id": "b755075c-d149-45f4-a304-ac6d8fb7ffc5",
   "metadata": {},
   "outputs": [],
   "source": [
    "import pandas as pd\n",
    "import numpy as np\n",
    "import seaborn as sns\n",
    "import matplotlib.pyplot as plt\n",
    "import scipy.cluster.hierarchy as sch\n",
    "\n",
    "import pandas as pd\n",
    "import numpy as np\n",
    "import seaborn as sns\n",
    "import matplotlib.pyplot as plt\n",
    "import scipy.cluster.hierarchy as sch\n",
    "from scipy.spatial.distance import squareform\n",
    "\n",
    "def plot_correlation_grid(\n",
    "        df: pd.DataFrame,\n",
    "        feature_cols: list[str],\n",
    "        *,\n",
    "        cluster: bool = True,\n",
    "    ) -> None:\n",
    "    \"\"\"\n",
    "    Square grid whose off-diagonal cells are Pearson r and diagonal\n",
    "    cells are sample variances, mimicking Fig 3a of the paper.\n",
    "\n",
    "    Parameters\n",
    "    ----------\n",
    "    df : DataFrame\n",
    "    feature_cols : list[str]\n",
    "    cluster : bool, default True\n",
    "        Re-orders rows/columns via hierarchical clustering if True.\n",
    "    \"\"\"\n",
    "    # ------------------------------------------------------------------\n",
    "    # 1.   Clean the data\n",
    "    X = df[feature_cols].apply(pd.to_numeric, errors='coerce').replace(\n",
    "        [np.inf, -np.inf], np.nan\n",
    "    )\n",
    "    # Drop columns with < 2 distinct finite values (variance = 0 or NaN)\n",
    "    good = X.nunique(dropna=True) > 1\n",
    "    X = X.loc[:, good]\n",
    "\n",
    "    if X.shape[1] < 2:\n",
    "        raise ValueError(\"Need at least two valid features to plot a grid.\")\n",
    "\n",
    "    # ------------------------------------------------------------------\n",
    "    # 2.   Correlation + variance\n",
    "    corr = X.corr(method='pearson')\n",
    "    var  = X.var()\n",
    "    np.fill_diagonal(corr.values, var)\n",
    "\n",
    "    # ------------------------------------------------------------------\n",
    "    # 3.   Optional clustering\n",
    "    if cluster:\n",
    "        # Build a distance matrix for clustering:\n",
    "        #   d(i,j) = 1 - |r(i,j)|   (absolute corr → similarity)\n",
    "        dist_for_linkage = 1 - corr.abs().fillna(0).values\n",
    "        # linkage expects a condensed distance vector, not a square matrix\n",
    "        linkage = sch.linkage(squareform(dist_for_linkage, checks=False),\n",
    "                              method='average', optimal_ordering=True)\n",
    "        order   = sch.dendrogram(linkage, no_plot=True)['leaves']\n",
    "        corr    = corr.iloc[order, order]\n",
    "\n",
    "    # ------------------------------------------------------------------\n",
    "    # 4.   Plot\n",
    "    n = len(corr)\n",
    "    fig_size = max(4, n * 0.35)\n",
    "    plt.figure(figsize=(fig_size, fig_size))\n",
    "\n",
    "    sns.heatmap(\n",
    "        corr,\n",
    "        cmap='coolwarm',\n",
    "        center=0,\n",
    "        vmin=-1, vmax=1,\n",
    "        linewidths=0.4, linecolor='black',\n",
    "        square=True,\n",
    "        cbar_kws={'label': 'Pearson r (off-diag) / Variance (diag)'}\n",
    "    )\n",
    "\n",
    "    plt.xticks(rotation=90, ha='center', fontsize=8)\n",
    "    plt.yticks(rotation=0,  fontsize=8)\n",
    "    plt.title('Feature × Feature Correlation / Variance Grid',\n",
    "              loc='left', weight='bold')\n",
    "\n",
    "    plt.tight_layout()\n",
    "    plt.show()\n"
   ]
  },
  {
   "cell_type": "code",
   "execution_count": null,
   "id": "24c1f605-822e-45e1-84a5-bd5ff2d0b411",
   "metadata": {},
   "outputs": [],
   "source": [
    "plot_correlation_grid(df, feature_labels)"
   ]
  },
  {
   "cell_type": "code",
   "execution_count": null,
   "id": "4fe52c06-a571-441c-8fc5-777056360860",
   "metadata": {},
   "outputs": [],
   "source": [
    "X = np.vstack(df[feature_labels].values)\n",
    "\n",
    "# UMAP embedding\n",
    "embedding = umap.UMAP(random_state=42).fit_transform(X)\n",
    "\n",
    "fi = df[\"fi\"].values\n",
    "\n",
    "plt.figure(figsize=(6, 6))\n",
    "sc = plt.scatter(embedding[:, 0], embedding[:, 1], c=fi)\n",
    "plt.xlabel(\"UMAP1\")\n",
    "plt.ylabel(\"UMAP2\")\n",
    "plt.title(\"UMAP of Frequency Features (colored by FI)\")\n",
    "plt.colorbar(sc, label=\"FI\")\n",
    "plt.tight_layout()"
   ]
  },
  {
   "cell_type": "code",
   "execution_count": null,
   "id": "596a21db-f0a8-434f-b62f-885ad4aa369d",
   "metadata": {},
   "outputs": [],
   "source": []
  }
 ],
 "metadata": {
  "kernelspec": {
   "display_name": "Python 3 (ipykernel)",
   "language": "python",
   "name": "python3"
  },
  "language_info": {
   "codemirror_mode": {
    "name": "ipython",
    "version": 3
   },
   "file_extension": ".py",
   "mimetype": "text/x-python",
   "name": "python",
   "nbconvert_exporter": "python",
   "pygments_lexer": "ipython3",
   "version": "3.12.10"
  }
 },
 "nbformat": 4,
 "nbformat_minor": 5
}

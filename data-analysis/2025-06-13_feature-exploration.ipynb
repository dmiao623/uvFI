{
 "cells": [
  {
   "cell_type": "code",
   "execution_count": null,
   "id": "07b27de4-b345-45e3-acd6-ae67b7913991",
   "metadata": {},
   "outputs": [],
   "source": [
    "import math\n",
    "import matplotlib.pyplot as plt\n",
    "import numpy as np\n",
    "import pandas as pd\n",
    "import re\n",
    "import statsmodels.api as sm\n",
    "import umap\n",
    "\n",
    "from pathlib import Path"
   ]
  },
  {
   "cell_type": "code",
   "execution_count": null,
   "id": "10cd4c25-2eb4-482d-b1a5-5b73ffe35c83",
   "metadata": {},
   "outputs": [],
   "source": [
    "data_dir = Path(\"data/\")\n",
    "output_dir = Path(\"outputs/\")"
   ]
  },
  {
   "cell_type": "code",
   "execution_count": null,
   "id": "6f3de6cf-abf6-43d1-8aca-e1670fe3aad4",
   "metadata": {},
   "outputs": [],
   "source": [
    "videos_df = pd.read_pickle(data_dir / \"videos_df.pkl\")\n",
    "videos_df.head()"
   ]
  },
  {
   "cell_type": "code",
   "execution_count": null,
   "id": "1e770c8f-20fe-412b-84c0-2bc7f67a1e82",
   "metadata": {},
   "outputs": [],
   "source": [
    "videos_df[\"name\"]"
   ]
  },
  {
   "cell_type": "code",
   "execution_count": null,
   "id": "839cbfee-d57a-40cc-bd75-104acad52bbb",
   "metadata": {},
   "outputs": [],
   "source": [
    "metadata_df = pd.read_csv(output_dir / \"condensed_metadata.csv\")\n",
    "print(metadata_df.shape)\n",
    "metadata_df.head()"
   ]
  },
  {
   "cell_type": "code",
   "execution_count": null,
   "id": "9734b5a4-9dc0-405b-928a-d34a62ed6476",
   "metadata": {},
   "outputs": [],
   "source": [
    "metadata_df[\"pose_path\"][0]"
   ]
  },
  {
   "cell_type": "code",
   "execution_count": null,
   "id": "32a6f8b5-1561-4e28-b514-587d6c771b43",
   "metadata": {},
   "outputs": [],
   "source": [
    "import re\n",
    "import pandas as pd\n",
    "\n",
    "def pose_to_csv_name(pose_path: str) -> str:\n",
    "    category, *_, fname = pose_path.split('/')\n",
    "    fname = fname.rsplit('.', 1)[0]\n",
    "    fname = re.sub(r'__trimmed_overlay', '', fname)\n",
    "    return f'{category}_{fname}.csv'\n",
    "\n",
    "metadata_df = metadata_df.copy()\n",
    "metadata_df['name'] = metadata_df['pose_path'].apply(pose_to_csv_name)\n",
    "\n",
    "videos_df = videos_df.copy()\n",
    "videos_df['name'] = videos_df['name'].astype(str)\n",
    "\n",
    "merged_df = (\n",
    "    metadata_df\n",
    "      .merge(videos_df, on='name', how='inner', suffixes=('_meta', '_video'))\n",
    "      .drop(columns=['pose_path'])\n",
    ")\n",
    "\n",
    "merged_df"
   ]
  },
  {
   "cell_type": "code",
   "execution_count": null,
   "id": "6e24107d-3d6e-4aa5-8fd6-b91dd9ccbb66",
   "metadata": {},
   "outputs": [],
   "source": [
    "num_videos = len(merged_df)\n",
    "num_syllables = len(merged_df[\"freqs\"][0])\n",
    "print(num_videos, num_syllables)"
   ]
  },
  {
   "cell_type": "code",
   "execution_count": null,
   "id": "4da62bf3-376b-4f1e-9558-2e36563958e1",
   "metadata": {},
   "outputs": [],
   "source": [
    "x = merged_df[\"fi\"].values\n",
    "\n",
    "rmse_by_idx = []\n",
    "for i in range(num_syllables):\n",
    "    y = merged_df[\"freqs\"].apply(lambda a: a[i]).values\n",
    "    rmse = np.sqrt(np.mean((y - np.polyval(np.polyfit(x, y, 1), x)) ** 2))\n",
    "    rmse_by_idx.append(rmse)\n",
    "\n",
    "sorted_idx = np.argsort(rmse_by_idx)\n",
    "\n",
    "n_cols = math.ceil(math.sqrt(num_syllables))\n",
    "n_rows = math.ceil(num_syllables / n_cols)\n",
    "fig, axes = plt.subplots(n_rows, n_cols, figsize=(4 * n_cols, 4 * n_rows), constrained_layout=True)\n",
    "axes = axes.flat\n",
    "\n",
    "for rank, idx in enumerate(sorted_idx):\n",
    "    ax = axes[rank]\n",
    "    y = merged_df[\"freqs\"].apply(lambda a: a[idx]).values\n",
    "    X = sm.add_constant(x)\n",
    "    model = sm.OLS(y, X).fit()\n",
    "    xp = np.linspace(x.min(), x.max(), 100)\n",
    "    Xp = sm.add_constant(xp)\n",
    "    pred = model.get_prediction(Xp)\n",
    "    ci = pred.conf_int()\n",
    "    y_pred = pred.predicted_mean\n",
    "    rmse = rmse_by_idx[idx]\n",
    "    ax.scatter(x, y)\n",
    "    ax.plot(xp, y_pred)\n",
    "    ax.fill_between(xp, ci[:, 0], ci[:, 1], alpha=0.2)\n",
    "    ax.text(0.05, 0.95, f\"RMSE = {rmse:.3f}\", transform=ax.transAxes, ha=\"left\", va=\"top\")\n",
    "    ax.set_title(f\"Freq[{idx}]\")\n",
    "    ax.set_xlabel(\"FI\")\n",
    "    ax.set_ylabel(\"Value\")\n",
    "\n",
    "for k in range(num_syllables, len(axes)):\n",
    "    fig.delaxes(axes[k])\n",
    "\n",
    "plt.show()"
   ]
  },
  {
   "cell_type": "code",
   "execution_count": null,
   "id": "4da491a4-f05f-4320-9260-52c2cd9630de",
   "metadata": {},
   "outputs": [],
   "source": [
    "x = merged_df[\"age\"].values\n",
    "\n",
    "rmse_by_idx = []\n",
    "for i in range(num_syllables):\n",
    "    y = merged_df[\"freqs\"].apply(lambda a: a[i]).values\n",
    "    rmse = np.sqrt(np.mean((y - np.polyval(np.polyfit(x, y, 1), x)) ** 2))\n",
    "    rmse_by_idx.append(rmse)\n",
    "\n",
    "sorted_idx = np.argsort(rmse_by_idx)\n",
    "\n",
    "n_cols = math.ceil(math.sqrt(num_syllables))\n",
    "n_rows = math.ceil(num_syllables / n_cols)\n",
    "fig, axes = plt.subplots(n_rows, n_cols, figsize=(4 * n_cols, 4 * n_rows), constrained_layout=True)\n",
    "axes = axes.flat\n",
    "\n",
    "for rank, idx in enumerate(sorted_idx):\n",
    "    ax = axes[rank]\n",
    "    y = merged_df[\"freqs\"].apply(lambda a: a[idx]).values\n",
    "    X = sm.add_constant(x)\n",
    "    model = sm.OLS(y, X).fit()\n",
    "    xp = np.linspace(x.min(), x.max(), 100)\n",
    "    Xp = sm.add_constant(xp)\n",
    "    pred = model.get_prediction(Xp)\n",
    "    ci = pred.conf_int()\n",
    "    y_pred = pred.predicted_mean\n",
    "    rmse = rmse_by_idx[idx]\n",
    "    ax.scatter(x, y)\n",
    "    ax.plot(xp, y_pred)\n",
    "    ax.fill_between(xp, ci[:, 0], ci[:, 1], alpha=0.2)\n",
    "    ax.text(0.05, 0.95, f\"RMSE = {rmse:.3f}\", transform=ax.transAxes, ha=\"left\", va=\"top\")\n",
    "    ax.set_title(f\"Freq[{idx}]\")\n",
    "    ax.set_xlabel(\"Age\")\n",
    "    ax.set_ylabel(\"Value\")\n",
    "\n",
    "for k in range(num_syllables, len(axes)):\n",
    "    fig.delaxes(axes[k])\n",
    "\n",
    "plt.show()"
   ]
  },
  {
   "cell_type": "code",
   "execution_count": null,
   "id": "3a002935-9032-4572-b754-5c1e1e6bc527",
   "metadata": {},
   "outputs": [],
   "source": [
    "X = np.vstack(merged_df[\"freqs\"].values)\n",
    "\n",
    "# UMAP embedding\n",
    "embedding = umap.UMAP(random_state=42).fit_transform(X)\n",
    "\n",
    "fi = merged_df[\"age\"].values\n",
    "\n",
    "plt.figure(figsize=(6, 6))\n",
    "sc = plt.scatter(embedding[:, 0], embedding[:, 1], c=fi)\n",
    "plt.xlabel(\"UMAP1\")\n",
    "plt.ylabel(\"UMAP2\")\n",
    "plt.title(\"UMAP of Frequency Features (colored by FI)\")\n",
    "plt.colorbar(sc, label=\"FI\")\n",
    "plt.tight_layout()"
   ]
  },
  {
   "cell_type": "code",
   "execution_count": null,
   "id": "224d1c6d-3825-4295-8047-7c7f17439e7d",
   "metadata": {},
   "outputs": [],
   "source": []
  }
 ],
 "metadata": {
  "kernelspec": {
   "display_name": "Python 3 (ipykernel)",
   "language": "python",
   "name": "python3"
  },
  "language_info": {
   "codemirror_mode": {
    "name": "ipython",
    "version": 3
   },
   "file_extension": ".py",
   "mimetype": "text/x-python",
   "name": "python",
   "nbconvert_exporter": "python",
   "pygments_lexer": "ipython3",
   "version": "3.12.10"
  }
 },
 "nbformat": 4,
 "nbformat_minor": 5
}

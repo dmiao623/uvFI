{
 "cells": [
  {
   "cell_type": "code",
   "execution_count": null,
   "id": "850cc791-06aa-4bd2-b13b-cd5f5acfa143",
   "metadata": {},
   "outputs": [],
   "source": [
    "import datetime\n",
    "import pandas as pd\n",
    "import matplotlib.pyplot as plt\n",
    "import numpy as np\n",
    "\n",
    "from pathlib import Path\n",
    "from sklearn.model_selection import StratifiedShuffleSplit"
   ]
  },
  {
   "cell_type": "code",
   "execution_count": null,
   "id": "4b3075d8-6762-41be-91e8-8f997275143b",
   "metadata": {},
   "outputs": [],
   "source": [
    "data_dir = Path(\"data/\")\n",
    "output_dir = Path(\"outputs/\")\n",
    "age_md_path = data_dir / \"agedB6_mice_meta.csv\"\n",
    "fi_md_path = data_dir / \"df_video_features.csv\"\n",
    "video_list_path = data_dir / \"B6J_good_videos_batch_file.data\""
   ]
  },
  {
   "cell_type": "code",
   "execution_count": null,
   "id": "4dc79202-2d48-4e46-afbe-fedfefa1ae23",
   "metadata": {},
   "outputs": [],
   "source": [
    "age_md = pd.read_csv(age_md_path)\n",
    "print(age_md.columns, age_md.shape)"
   ]
  },
  {
   "cell_type": "code",
   "execution_count": null,
   "id": "69158f6e-6251-435e-954e-56c24c2255ac",
   "metadata": {},
   "outputs": [],
   "source": [
    "fi_md = pd.read_csv(fi_md_path)\n",
    "print(fi_md.columns, fi_md.shape)"
   ]
  },
  {
   "cell_type": "code",
   "execution_count": null,
   "id": "cdd7a358-aa6a-48fd-bed8-9860d787015a",
   "metadata": {},
   "outputs": [],
   "source": [
    "age_md[\"DOB_dt\"] = pd.to_datetime(age_md[\"DOB\"], format=\"%m/%d/%y\")\n",
    "age_md[\"TestDate_dt\"] = pd.to_datetime(age_md[\"TestDate\"], format=\"%m/%d/%y\")\n",
    "age_md[\"Age_days\"] = age_md.apply(lambda row: (row[\"TestDate_dt\"] - row[\"DOB_dt\"]).days, axis=1)\n",
    "age_md[\"Age_weeks\"] = age_md[\"Age_days\"] // 7\n",
    "age_md[\"Age_months\"] = age_md[\"Age_days\"] // 30"
   ]
  },
  {
   "cell_type": "code",
   "execution_count": null,
   "id": "4a9e6214-ad69-49a0-8f64-a301d54acb44",
   "metadata": {},
   "outputs": [],
   "source": [
    "### find entries in both tables\n",
    "\n",
    "merged_md = pd.merge(age_md, fi_md, how=\"inner\", left_on=\"MouseID\", right_on=\"MouseID\")\n",
    "mask = abs(merged_md[\"Age_weeks\"] - merged_md[\"TestAge\"]) <= 1\n",
    "md = merged_md[mask].copy()\n",
    "print(md.columns, md.shape)"
   ]
  },
  {
   "cell_type": "code",
   "execution_count": null,
   "id": "784628d7-f872-4ddf-963b-f7e7353f66ef",
   "metadata": {},
   "outputs": [],
   "source": [
    "md[\"path_head\"] = md.apply(lambda row: Path(row['NetworkFilename']).with_suffix(\"\"), axis=1)\n",
    "md[\"video_path\"] = md.apply(lambda row: f\"{row['path_head']}_trimmed_overlay.mp4\", axis=1)\n",
    "md[\"pose_path\"] = md.apply(lambda row: f\"{row['path_head']}__trimmed_overlay_pose_est_v6.h5\", axis=1)"
   ]
  },
  {
   "cell_type": "code",
   "execution_count": null,
   "id": "7f81a3c9-d6a6-4388-a346-91e167141055",
   "metadata": {},
   "outputs": [],
   "source": [
    "print(md[\"video_path\"])"
   ]
  },
  {
   "cell_type": "code",
   "execution_count": null,
   "id": "15de18fd-a9d0-4755-bbec-78f75179fb57",
   "metadata": {},
   "outputs": [],
   "source": [
    "### find entries with valid filepaths\n",
    "\n",
    "with video_list_path.open(\"r\") as f:\n",
    "    videos = list(map(lambda x: x.strip()[58:], f.readlines()))\n",
    "print(videos[:5])\n",
    "md = md[md[\"video_path\"].isin(videos)].copy()\n",
    "print(md.columns, md.shape)"
   ]
  },
  {
   "cell_type": "code",
   "execution_count": null,
   "id": "1627fa3b-db55-478a-973c-56b623f35e3e",
   "metadata": {},
   "outputs": [],
   "source": [
    "sub_md_cols = [\"pose_path\", \"MouseID\", \"Sex_y\", \"Age_weeks\", \"score\"]\n",
    "sub_md = md[sub_md_cols].copy()\n",
    "\n",
    "sub_md = sub_md.rename(columns={\n",
    "    \"MouseID\": \"mouse_id\",\n",
    "    \"Sex_y\": \"sex\",\n",
    "    \"Age_weeks\": \"age\",\n",
    "    \"score\": \"fi\",\n",
    "})\n",
    "\n",
    "sub_md.to_csv(output_dir / \"condensed_metadata.csv\", index=False)"
   ]
  },
  {
   "cell_type": "code",
   "execution_count": null,
   "id": "c14eb47b-9498-4a52-afe3-84d6af9b5665",
   "metadata": {},
   "outputs": [],
   "source": [
    "age_counts = md[\"Age_months\"].value_counts().sort_index()\n",
    "age_max = max(md[\"Age_months\"])\n",
    "\n",
    "plt.figure()\n",
    "plt.bar(age_counts.index, age_counts.values)\n",
    "plt.xlabel(\"Age (months)\")\n",
    "plt.xticks(np.arange(0, age_max + 1, 6))\n",
    "plt.ylabel(\"Number of Mice\")\n",
    "plt.show()\n",
    "\n",
    "plt.figure()\n",
    "plt.bar(age_counts.index, age_counts.values / sum(age_counts.values))\n",
    "plt.xlabel(\"Age (months)\")\n",
    "plt.xticks(np.arange(0, age_max + 1, 6))\n",
    "plt.ylabel(\"Frequency\")\n",
    "plt.show()"
   ]
  },
  {
   "cell_type": "code",
   "execution_count": null,
   "id": "9cbc3ad2-8d86-4e02-953b-bd511394a718",
   "metadata": {},
   "outputs": [],
   "source": [
    "fi_counts = md[\"score\"].value_counts().sort_index()\n",
    "\n",
    "plt.figure()\n",
    "plt.bar(fi_counts.index, fi_counts.values)\n",
    "plt.xlabel(\"Biological Age (Frailty)\")\n",
    "plt.ylabel(\"Number of Mice\")\n",
    "plt.show()"
   ]
  },
  {
   "cell_type": "code",
   "execution_count": null,
   "id": "8db44d35-ce2d-48c0-a236-83d7d7537fdb",
   "metadata": {},
   "outputs": [],
   "source": [
    "n_score_bins = 5\n",
    "\n",
    "# 2. create integer‐coded quantile bins for score\n",
    "md['score_bin'] = pd.qcut(md['score'],\n",
    "                          q=n_score_bins,\n",
    "                          labels=False,\n",
    "                          duplicates='drop')\n",
    "\n",
    "# 3. combine score_bin and Sex_y into one strata label\n",
    "#    (you can keep it as a tuple or turn into a string)\n",
    "md['strata'] = list(zip(md['score_bin'], md['Sex_y']))\n",
    "\n",
    "# 4. set up StratifiedShuffleSplit to pull exactly 250 samples\n",
    "sss = StratifiedShuffleSplit(n_splits=1, test_size=250, random_state=42)\n",
    "\n",
    "# 5. draw the sample\n",
    "for _, test_idx in sss.split(md, md['strata']):\n",
    "    stratified_subset = md.iloc[test_idx].reset_index(drop=True)\n",
    "stratified_subset[:3]"
   ]
  },
  {
   "cell_type": "code",
   "execution_count": null,
   "id": "c88bb026-cc70-49ac-8031-98a9ac901688",
   "metadata": {},
   "outputs": [],
   "source": [
    "bucket_counts = stratified_subset[\"strata\"].astype(str).value_counts().sort_index()\n",
    "\n",
    "plt.figure()\n",
    "plt.bar(bucket_counts.index, bucket_counts.values)\n",
    "plt.xlabel(\"Bucket\")\n",
    "plt.ylabel(\"Number of Mice\")\n",
    "plt.show()"
   ]
  },
  {
   "cell_type": "code",
   "execution_count": null,
   "id": "ac589dd4-758e-459e-94e6-63e9d34a6a98",
   "metadata": {},
   "outputs": [],
   "source": [
    "len(stratified_subset)"
   ]
  },
  {
   "cell_type": "code",
   "execution_count": null,
   "id": "9ea7ce26-3254-4ad3-8627-9f19150a4771",
   "metadata": {},
   "outputs": [],
   "source": [
    "with open(output_dir / \"good_video_paths.txt\", \"w\") as f:\n",
    "    f.writelines(\"\\n\".join(list(stratified_subset[\"video_path\"])))\n",
    "with open(output_dir / \"good_pose_paths.txt\", \"w\") as f:\n",
    "    f.writelines(\"\\n\".join(list(stratified_subset[\"pose_path\"])))"
   ]
  },
  {
   "cell_type": "code",
   "execution_count": null,
   "id": "cc642992-4dd0-41b0-8e46-3b11b3c998b2",
   "metadata": {},
   "outputs": [],
   "source": []
  },
  {
   "cell_type": "code",
   "execution_count": null,
   "id": "98fb3998-d558-4ef7-a5cd-9f2f05b2c7e2",
   "metadata": {},
   "outputs": [],
   "source": []
  }
 ],
 "metadata": {
  "kernelspec": {
   "display_name": "Python 3 (ipykernel)",
   "language": "python",
   "name": "python3"
  },
  "language_info": {
   "codemirror_mode": {
    "name": "ipython",
    "version": 3
   },
   "file_extension": ".py",
   "mimetype": "text/x-python",
   "name": "python",
   "nbconvert_exporter": "python",
   "pygments_lexer": "ipython3",
   "version": "3.12.10"
  }
 },
 "nbformat": 4,
 "nbformat_minor": 5
}

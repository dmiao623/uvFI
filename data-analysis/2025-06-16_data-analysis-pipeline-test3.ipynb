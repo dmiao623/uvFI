{
 "cells": [
  {
   "cell_type": "code",
   "execution_count": null,
   "id": "441b9e98-2406-4cf0-8d1f-2c7e308ed903",
   "metadata": {},
   "outputs": [],
   "source": [
    "import pandas as pd\n",
    "\n",
    "from pathlib import Path"
   ]
  },
  {
   "cell_type": "code",
   "execution_count": null,
   "id": "4b43fd17-6dee-4af4-acf9-d01582b53aa0",
   "metadata": {},
   "outputs": [],
   "source": [
    "import sys\n",
    "\n",
    "analysis_lib = \"/Users/dustinm/Projects/research/kumar-lab/uvFI/pipelines/feature-extraction/src\"\n",
    "sys.path.append(analysis_lib)\n",
    "\n",
    "import analysis"
   ]
  },
  {
   "cell_type": "code",
   "execution_count": null,
   "id": "5ec7c58a-d4b8-43b0-9791-92f0fcd3cbec",
   "metadata": {},
   "outputs": [],
   "source": [
    "base_dir   = Path(\"/Users/dustinm/Projects/research/kumar-lab/uvFI/data-analysis\")\n",
    "data_dir   = base_dir / \"data/\"\n",
    "output_dir = base_dir / \"outputs/\""
   ]
  },
  {
   "cell_type": "code",
   "execution_count": null,
   "id": "fe6bd476-669f-47ac-8aaf-e87e181882b8",
   "metadata": {},
   "outputs": [],
   "source": [
    "import pickle\n",
    "with (data_dir / \"2025-06-17_features-block.pkl\").open(\"rb\") as f:\n",
    "    features_df = pickle.load(f)"
   ]
  },
  {
   "cell_type": "code",
   "execution_count": null,
   "id": "7b75fc3a-1948-489c-b33e-391c380ce509",
   "metadata": {},
   "outputs": [],
   "source": [
    "features_df = features_df.loc[:, features_df.nunique(dropna=False) > 1]\n",
    "\n",
    "feature_labels = list(features_df.columns)[1:]\n",
    "print(f\"{len(feature_labels)=}\")\n",
    "\n",
    "filtered_feature_labels = [feature_label for feature_label in feature_labels if feature_label[:15] != \"transition_mat_\"]\n",
    "print(f\"{len(filtered_feature_labels)=}\")"
   ]
  },
  {
   "cell_type": "code",
   "execution_count": null,
   "id": "1ef01284-faea-4a36-9b99-5e8a807d34f2",
   "metadata": {},
   "outputs": [],
   "source": [
    "metadata_df = pd.read_csv(output_dir / \"condensed_metadata.csv\")\n",
    "metadata_df[\"pose_path\"]"
   ]
  },
  {
   "cell_type": "code",
   "execution_count": null,
   "id": "61f28721-84d0-444f-a437-29a1b1c51f69",
   "metadata": {},
   "outputs": [],
   "source": [
    "feature_label_basename = lambda feature_label: \"#\".join(feature_label[8:-len(\"_pose_est_v6.csv\")].split(\"__\"))\n",
    "feature_label_basename(features_df[\"name\"][0])"
   ]
  },
  {
   "cell_type": "code",
   "execution_count": null,
   "id": "4978ed9f-79c9-41c0-9df7-97641ebc4d53",
   "metadata": {},
   "outputs": [],
   "source": [
    "metadata_label_basename = lambda metadata_label: \"#\".join(metadata_label[:-len(\"__trimmed_overlay_pose_est_v6.h5\")].split(\"/\"))\n",
    "metadata_label_basename(metadata_df[\"pose_path\"][0])"
   ]
  },
  {
   "cell_type": "code",
   "execution_count": null,
   "id": "dffae555-c062-4842-80fe-ddf4f0059214",
   "metadata": {},
   "outputs": [],
   "source": [
    "df = analysis.merge_on_transformed(features_df, \"name\", feature_label_basename, metadata_df, \"pose_path\", metadata_label_basename)"
   ]
  },
  {
   "cell_type": "code",
   "execution_count": null,
   "id": "b96a3917-19c9-4cd9-b974-6b7d04ff48a9",
   "metadata": {},
   "outputs": [],
   "source": [
    "outliers = [\"LL6-B2B#2020-06-25_SPD#AgedB6-1202\", \"LL2-B2B#2020-07-06_SPD#AgedB6-1241\"]\n",
    "df = df[~df[\"name\"].isin(outliers)].reset_index(drop=True)"
   ]
  },
  {
   "cell_type": "code",
   "execution_count": null,
   "id": "81f94605-7fdf-436a-889d-9578a934802c",
   "metadata": {},
   "outputs": [],
   "source": [
    "analysis.plot_feature_correlations(df, feature_labels, \"fi\", cols_per_row=60)"
   ]
  },
  {
   "cell_type": "code",
   "execution_count": null,
   "id": "d300e0e4-9e78-4547-8f37-0e99b8f0f8f7",
   "metadata": {},
   "outputs": [],
   "source": [
    "analysis.plot_feature_correlations(df, feature_labels, \"age\", cols_per_row=60)"
   ]
  },
  {
   "cell_type": "code",
   "execution_count": null,
   "id": "c4a4432f-498e-4e76-aa1c-340d57883cf7",
   "metadata": {},
   "outputs": [],
   "source": [
    "analysis.plot_feature_scatter(df, \"fi\", \"age\")"
   ]
  },
  {
   "cell_type": "code",
   "execution_count": null,
   "id": "24c1f605-822e-45e1-84a5-bd5ff2d0b411",
   "metadata": {},
   "outputs": [],
   "source": [
    "# plot_correlation_grid(df, filtered_feature_labels)"
   ]
  },
  {
   "cell_type": "code",
   "execution_count": null,
   "id": "5c5f4940-18ff-4686-8f38-af08d0920534",
   "metadata": {},
   "outputs": [],
   "source": [
    "analysis.plot_umap(df, feature_labels, \"fi\")"
   ]
  },
  {
   "cell_type": "code",
   "execution_count": null,
   "id": "e1895f90-e965-4c29-a2eb-8a9aba097f0d",
   "metadata": {},
   "outputs": [],
   "source": [
    "analysis.plot_pca(df, feature_labels, \"age\")"
   ]
  },
  {
   "cell_type": "code",
   "execution_count": null,
   "id": "cdb358c6-bdf7-4121-81d4-db54373df5eb",
   "metadata": {},
   "outputs": [],
   "source": [
    "--"
   ]
  }
 ],
 "metadata": {
  "language_info": {
   "name": "python"
  }
 },
 "nbformat": 4,
 "nbformat_minor": 5
}

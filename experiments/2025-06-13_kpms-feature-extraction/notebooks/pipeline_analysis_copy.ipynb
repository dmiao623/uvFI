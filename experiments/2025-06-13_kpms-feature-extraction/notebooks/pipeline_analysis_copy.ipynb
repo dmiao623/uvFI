{
 "cells": [
  {
   "cell_type": "code",
   "execution_count": null,
   "id": "c759f2c7-814a-4a89-9e20-0fbc6f1fdac6",
   "metadata": {},
   "outputs": [],
   "source": [
    "import sys\n",
    "\n",
    "analysis_lib = \"/projects/kumar-lab/miaod/projects/uvFI/pipelines/feature-extraction/src\"\n",
    "sys.path.append(analysis_lib)\n",
    "\n",
    "import features, preprocess, utils"
   ]
  },
  {
   "cell_type": "code",
   "execution_count": null,
   "id": "86cbb8fe-80e4-4d80-8648-219dc0705c4f",
   "metadata": {},
   "outputs": [],
   "source": [
    "from pathlib import Path\n",
    "\n",
    "expr_dir = Path(\"/projects/kumar-lab/miaod/projects/uvFI/experiments/2025-06-13_kpms-feature-extraction/\")\n",
    "outputs_dir = expr_dir / \"outputs\"\n",
    "\n",
    "project_dir = expr_dir / \"data\"\n",
    "model_name = \"2025-06-13_kpms-inference_data\"\n",
    "pose_dir = expr_dir / \"data/2025-06-13_kpms-inference_data/poses_csv\"\n",
    "\n",
    "utils.set_project_info(str(project_dir), model_name, str(pose_dir))"
   ]
  },
  {
   "cell_type": "code",
   "execution_count": null,
   "id": "e3cb25b9-59f7-4d4e-a719-fab36f52e7ec",
   "metadata": {},
   "outputs": [],
   "source": [
    "preprocess.create_groups_csv()"
   ]
  },
  {
   "cell_type": "code",
   "execution_count": null,
   "id": "7dfe33e7-32ea-4e3f-a996-853763f77228",
   "metadata": {},
   "outputs": [],
   "source": [
    "preprocess.combine_inference_results(r\"^out_\\d+\\.h5$\")"
   ]
  },
  {
   "cell_type": "code",
   "execution_count": null,
   "id": "b7eb8150-0914-4d7c-8e1d-b9b34087a49d",
   "metadata": {},
   "outputs": [],
   "source": [
    "%%capture\n",
    "features_dict = features.get_all_features(min_frequency=0.02)"
   ]
  },
  {
   "cell_type": "code",
   "execution_count": null,
   "id": "ec02e34e-9543-4948-a3e2-eb437ccb5a2f",
   "metadata": {},
   "outputs": [],
   "source": [
    "features_arr, row_labels, col_labels = features.flatten_features(features_dict)"
   ]
  },
  {
   "cell_type": "code",
   "execution_count": null,
   "id": "e9139e49-4d0d-4d51-811e-c115cf377d7b",
   "metadata": {},
   "outputs": [],
   "source": [
    "import pickle\n",
    "\n",
    "features_block = (features_arr, row_labels, col_labels)\n",
    "with (outputs_dir / \"features_block.pkl\").open(\"wb\") as f:\n",
    "    pickle.dump(features_block, f, protocol=pickle.HIGHEST_PROTOCOL)"
   ]
  },
  {
   "cell_type": "code",
   "execution_count": null,
   "id": "09368a75-45e8-4d66-9cd7-a83906cc78d1",
   "metadata": {},
   "outputs": [],
   "source": [
    "print(f\"rsync -avz miaod@login.sumner2.jax.org:{outputs_dir / 'features_block.pkl'} ~/Downloads/\")"
   ]
  }
 ],
 "metadata": {
  "kernelspec": {
   "display_name": "Python 3 (ipykernel)",
   "language": "python",
   "name": "python3"
  },
  "language_info": {
   "codemirror_mode": {
    "name": "ipython",
    "version": 3
   },
   "file_extension": ".py",
   "mimetype": "text/x-python",
   "name": "python",
   "nbconvert_exporter": "python",
   "pygments_lexer": "ipython3",
   "version": "3.12.10"
  }
 },
 "nbformat": 4,
 "nbformat_minor": 5
}

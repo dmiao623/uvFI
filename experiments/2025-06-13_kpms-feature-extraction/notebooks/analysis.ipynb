{
 "cells": [
  {
   "cell_type": "code",
   "execution_count": null,
   "id": "c8c49ce6-574d-48ad-8725-d8ebbaaceb91",
   "metadata": {},
   "outputs": [],
   "source": [
    "import keypoint_moseq as kpms"
   ]
  },
  {
   "cell_type": "code",
   "execution_count": null,
   "id": "ad0ac22f-3031-42d7-8538-d24c58f328f5",
   "metadata": {},
   "outputs": [],
   "source": [
    "import h5py\n",
    "import numpy as np\n",
    "import os\n",
    "import pandas as pd\n",
    "\n",
    "from pathlib import Path\n",
    "from tqdm import tqdm"
   ]
  },
  {
   "cell_type": "code",
   "execution_count": null,
   "id": "73ddec07-43bb-4b68-81d7-f46c9b4c08e7",
   "metadata": {},
   "outputs": [],
   "source": [
    "project_name = \"2025-06-13_kpms-feature-extraction\"\n",
    "project_dir = Path(\"/projects/kumar-lab/miaod/projects/uvFI/experiments/2025-06-13_kpms-feature-extraction/\")\n",
    "outputs_dir = project_dir / \"outputs\"\n",
    "data_dir = project_dir / \"data/2025-06-13_kpms-inference_data\"\n",
    "\n",
    "min_frequency = 0.005"
   ]
  },
  {
   "cell_type": "markdown",
   "id": "e48b81b2-112c-415c-8c00-b44741c7b9e4",
   "metadata": {},
   "source": [
    "### Data Loading and Preprocessing"
   ]
  },
  {
   "cell_type": "code",
   "execution_count": null,
   "id": "15152183-6715-4b91-b0c2-e60afb237217",
   "metadata": {},
   "outputs": [],
   "source": [
    "kpms_project_dir = str(project_dir / \"data\")\n",
    "kpms_model_name = \"2025-06-13_kpms-inference_data\"\n",
    "kpms_group_csv_path = project_dir / \"data/index.csv\"\n",
    "\n",
    "pose_dir = data_dir / \"poses_csv\"\n",
    "csv_str = \"name,group\\n\" + \"\\n\".join([f\"{file.name},{file.stem}\" for file in pose_dir.iterdir()])\n",
    "print(csv_str[:100])\n",
    "\n",
    "kpms_group_csv_path.write_text(csv_str)"
   ]
  },
  {
   "cell_type": "code",
   "execution_count": null,
   "id": "58e98d9c-8860-4d62-bd62-d75164623ac2",
   "metadata": {},
   "outputs": [],
   "source": [
    "kpms_result_path = Path(f\"{kpms_project_dir}/{kpms_model_name}/results.h5\")\n",
    "\n",
    "# def compute_batch_moseq_stats_df(batch_file: Path):\n",
    "#     try:\n",
    "#         os.symlink(batch_file, str(kpms_result_path))\n",
    "#     except OSError as e:\n",
    "#         print(f\"creation of symlink {batch_file.name} -> {kpms_result_path.name} failed\")\n",
    "#         return\n",
    "\n",
    "#     moseq_df = kpms.compute_moseq_df(kpms_project_dir, kpms_model_name, smooth_heading=True)\n",
    "#     stats_df = kpms.compute_stats_df(kpms_project_dir, kpms_model_name, moseq_df, min_frequency=0.005, groupby=[\"name\"])\n",
    "    \n",
    "#     kpms_result_path.unlink()\n",
    "#     return (moseq_df, stats_df)"
   ]
  },
  {
   "cell_type": "code",
   "execution_count": null,
   "id": "9d13bb5d-cea4-4d5b-9159-5a490702ffdc",
   "metadata": {},
   "outputs": [],
   "source": [
    "num_batches = 79\n",
    "# indices = range(1, num_batches+1)\n",
    "\n",
    "# kpms_result_path.unlink(missing_ok=True)\n",
    "# batch_dfs = [\n",
    "#     compute_batch_moseq_stats_df(data_dir / f\"out_{batch}.h5\")\n",
    "#     for batch in tqdm(indices, \"computing batches\", total=len(indices))\n",
    "# ]"
   ]
  },
  {
   "cell_type": "code",
   "execution_count": null,
   "id": "78fb8125-fbac-43c9-90c3-4680b2baa994",
   "metadata": {},
   "outputs": [],
   "source": [
    "# moseq_dfs, stats_dfs = zip(*batch_dfs)\n",
    "# moseq_df = pd.concat(moseq_dfs)\n",
    "# stats_df = pd.concat(stats_dfs)"
   ]
  },
  {
   "cell_type": "code",
   "execution_count": null,
   "id": "da3faba1-62d9-47d7-bfe5-811f7e7916f9",
   "metadata": {},
   "outputs": [],
   "source": [
    "with h5py.File(kpms_result_path, \"w\") as h5out:\n",
    "    for batch in range(1, num_batches+1):\n",
    "        input_file = data_dir / f\"out_{batch}.h5\"\n",
    "        with h5py.File(input_file, \"r\") as h5in:\n",
    "            for group_name in h5in:\n",
    "                h5in.copy(group_name, h5out)"
   ]
  },
  {
   "cell_type": "code",
   "execution_count": null,
   "id": "39c10afc-b8f6-4844-ae02-93748dee42ac",
   "metadata": {},
   "outputs": [],
   "source": []
  },
  {
   "cell_type": "code",
   "execution_count": null,
   "id": "dee0c011-8efa-4025-8289-b6d60211cfc2",
   "metadata": {},
   "outputs": [],
   "source": [
    "results = kpms.load_results(kpms_project_dir, kpms_model_name)\n",
    "kpms.save_results_as_csv(results, kpms_project_dir, kpms_model_name)"
   ]
  },
  {
   "cell_type": "code",
   "execution_count": null,
   "id": "4c54a186-5660-410a-ac27-e896a5b237b1",
   "metadata": {},
   "outputs": [],
   "source": [
    "results[\"LL1-B2B_LL1-B2B__2019-09-04_SPD__LL1-1_AgedB6-0396_pose_est_v6.csv\"][\"latent_state\"].shape"
   ]
  },
  {
   "cell_type": "code",
   "execution_count": null,
   "id": "d0db9dc1-b33f-4529-8402-cbe89d49ea84",
   "metadata": {},
   "outputs": [],
   "source": [
    "moseq_df = kpms.compute_moseq_df(kpms_project_dir, kpms_model_name, smooth_heading=True)"
   ]
  },
  {
   "cell_type": "code",
   "execution_count": null,
   "id": "6f9b91ef-6d00-4a95-8a70-4b6dbb6dc743",
   "metadata": {},
   "outputs": [],
   "source": [
    "stats_df = kpms.compute_stats_df(kpms_project_dir, kpms_model_name, moseq_df, min_frequency=min_frequency, groupby=[\"name\"])"
   ]
  },
  {
   "cell_type": "code",
   "execution_count": null,
   "id": "0038fb0d-3e70-46c2-af54-7725703b0d6c",
   "metadata": {},
   "outputs": [],
   "source": [
    "print(moseq_df.shape)\n",
    "moseq_df.head()"
   ]
  },
  {
   "cell_type": "code",
   "execution_count": null,
   "id": "1d8983e5-c511-43fb-9b87-c57246e7801c",
   "metadata": {},
   "outputs": [],
   "source": [
    "# moseq_df.to_csv(outputs_dir / \"moseq_df.csv.gz\", index=False, compression=\"gzip\")\n",
    "# stats_df.to_csv(outputs_dir / \"stats_df.csv.gz\", index=False, compression=\"gzip\")"
   ]
  },
  {
   "cell_type": "code",
   "execution_count": null,
   "id": "66e1f852-b479-4f99-ae4c-178ccddc66dc",
   "metadata": {},
   "outputs": [],
   "source": [
    "%%capture\n",
    "normalize = \"bigram\"\n",
    "\n",
    "trans_mats, usages, groups, syll_include = kpms.generate_transition_matrices(\n",
    "    kpms_project_dir,\n",
    "    kpms_model_name,\n",
    "    normalize=normalize,\n",
    "    min_frequency=min_frequency,\n",
    ")"
   ]
  },
  {
   "cell_type": "code",
   "execution_count": null,
   "id": "b1128f27-857e-44dd-85da-d1b2aa3b319f",
   "metadata": {},
   "outputs": [],
   "source": [
    "# kpms.visualize_transition_bigram(\n",
    "#     kpms_project_dir,\n",
    "#     kpms_model_name,\n",
    "#     groups,\n",
    "#     trans_mats\n",
    "#     syll_include,\n",
    "#     normalize=normalize,\n",
    "#     show_syllable_names=True,\n",
    "# )"
   ]
  },
  {
   "cell_type": "code",
   "execution_count": null,
   "id": "48e4511e-9d2c-446c-b0fc-4b5cd6bb0ad2",
   "metadata": {},
   "outputs": [],
   "source": [
    "# kpms.plot_transition_graph_group(\n",
    "#     kpms_project_dir,\n",
    "#     kpms_model_name,\n",
    "#     groups,\n",
    "#     trans_mats,\n",
    "#     usages,\n",
    "#     syll_include,\n",
    "#     layout=\"circular\",\n",
    "#     show_syllable_names=False,\n",
    "#     save_dir = project_dir / \"outputs/transition_graphs.png\"\n",
    "# )"
   ]
  },
  {
   "cell_type": "code",
   "execution_count": null,
   "id": "1f03e57e-8ad7-49b7-b810-4669b14e56b1",
   "metadata": {},
   "outputs": [],
   "source": [
    "# kpms.plot_transition_graph_difference(\n",
    "#     kpms_project_dir, kpms_model_name, groups, trans_mats, usages, syll_include, layout=\"circular\",\n",
    "#     save_dir = project_dir / \"outputs/transition_graphs_diff.png\"\n",
    "# )"
   ]
  },
  {
   "cell_type": "markdown",
   "id": "785cd621-b50f-47c7-9007-20ea8bb7a67b",
   "metadata": {},
   "source": [
    "### Feature Extraction"
   ]
  },
  {
   "cell_type": "code",
   "execution_count": null,
   "id": "7c7466df-98cd-4769-ae7a-5f4c35c4cbbb",
   "metadata": {},
   "outputs": [],
   "source": [
    "videos = list(dict.fromkeys(stats_df[\"name\"]))\n",
    "videos[:5]"
   ]
  },
  {
   "cell_type": "code",
   "execution_count": null,
   "id": "9d857c3c-312e-4090-a474-956570c59c4c",
   "metadata": {},
   "outputs": [],
   "source": [
    "stats_df[\"name\"]"
   ]
  },
  {
   "cell_type": "code",
   "execution_count": null,
   "id": "837444e4-7f5c-4d75-b668-2b2f1b0bb638",
   "metadata": {},
   "outputs": [],
   "source": [
    "num_videos = len(videos)\n",
    "num_syllables = len(trans_mats[0][0])\n",
    "print(num_videos, num_syllables)"
   ]
  },
  {
   "cell_type": "code",
   "execution_count": null,
   "id": "04189848-264c-42f1-a95f-2229c5b2d176",
   "metadata": {},
   "outputs": [],
   "source": [
    "videos_df = pd.DataFrame(videos, columns=[\"name\"])\n",
    "videos_df[\"trans_mat\"] = trans_mats"
   ]
  },
  {
   "cell_type": "code",
   "execution_count": null,
   "id": "782cec64-bd8a-4d6c-9be9-462210b1784b",
   "metadata": {},
   "outputs": [],
   "source": [
    "freq_wide = stats_df.pivot(\n",
    "    index=\"name\",\n",
    "    columns=\"syllable\",\n",
    "    values=\"frequency\",\n",
    ").fillna(0)\n",
    "freq_array = freq_wide.to_numpy()\n",
    "\n",
    "videos_df[\"freqs\"] = list(freq_array)\n",
    "videos_df"
   ]
  },
  {
   "cell_type": "code",
   "execution_count": null,
   "id": "411b275c-a64e-4a57-a523-2028b7d6cf8b",
   "metadata": {},
   "outputs": [],
   "source": []
  },
  {
   "cell_type": "code",
   "execution_count": null,
   "id": "30a35a81-2c31-42ea-8412-168ddbcadd6a",
   "metadata": {},
   "outputs": [],
   "source": []
  },
  {
   "cell_type": "code",
   "execution_count": null,
   "id": "08a010ad-c477-45e7-a0a6-1ac06a8f8916",
   "metadata": {},
   "outputs": [],
   "source": []
  },
  {
   "cell_type": "code",
   "execution_count": null,
   "id": "8f3c1428-3899-497b-a7fa-4207c9736751",
   "metadata": {},
   "outputs": [],
   "source": []
  },
  {
   "cell_type": "code",
   "execution_count": null,
   "id": "abefa75f-fb20-44ac-9e69-ecf324c2803f",
   "metadata": {},
   "outputs": [],
   "source": []
  },
  {
   "cell_type": "code",
   "execution_count": null,
   "id": "c1627e5d-2167-4ff8-9bed-bf2ffef1500e",
   "metadata": {},
   "outputs": [],
   "source": [
    "videos_df.to_pickle(outputs_dir / f\"{project_name}_videos-df.pkl\")"
   ]
  },
  {
   "cell_type": "code",
   "execution_count": null,
   "id": "ec6337c5-7c89-4974-b6db-0f86cc19ecf9",
   "metadata": {},
   "outputs": [],
   "source": [
    "name_to_freq = dict(zip(freq_wide.index, freq_array))\n",
    "name_to_freq"
   ]
  },
  {
   "cell_type": "code",
   "execution_count": null,
   "id": "ba33db18-dff0-46c4-87bf-685d9d5b8857",
   "metadata": {},
   "outputs": [],
   "source": []
  }
 ],
 "metadata": {
  "language_info": {
   "name": "python"
  }
 },
 "nbformat": 4,
 "nbformat_minor": 5
}
